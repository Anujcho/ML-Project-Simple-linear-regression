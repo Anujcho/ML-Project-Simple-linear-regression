{
 "cells": [
  {
   "cell_type": "markdown",
   "id": "dc4210bf",
   "metadata": {},
   "source": [
    "Objective - Is to predict the Delivery time using Sorting time"
   ]
  },
  {
   "cell_type": "code",
   "execution_count": 1,
   "id": "2e36345a",
   "metadata": {},
   "outputs": [],
   "source": [
    "import pandas as pd\n",
    "import numpy as np\n",
    "import matplotlib.pyplot as plt\n",
    "import seaborn as sns"
   ]
  },
  {
   "cell_type": "code",
   "execution_count": 2,
   "id": "7caeea6a",
   "metadata": {},
   "outputs": [
    {
     "data": {
      "text/html": [
       "<div>\n",
       "<style scoped>\n",
       "    .dataframe tbody tr th:only-of-type {\n",
       "        vertical-align: middle;\n",
       "    }\n",
       "\n",
       "    .dataframe tbody tr th {\n",
       "        vertical-align: top;\n",
       "    }\n",
       "\n",
       "    .dataframe thead th {\n",
       "        text-align: right;\n",
       "    }\n",
       "</style>\n",
       "<table border=\"1\" class=\"dataframe\">\n",
       "  <thead>\n",
       "    <tr style=\"text-align: right;\">\n",
       "      <th></th>\n",
       "      <th>Delivery Time</th>\n",
       "      <th>Sorting Time</th>\n",
       "    </tr>\n",
       "  </thead>\n",
       "  <tbody>\n",
       "    <tr>\n",
       "      <th>0</th>\n",
       "      <td>21.00</td>\n",
       "      <td>10</td>\n",
       "    </tr>\n",
       "    <tr>\n",
       "      <th>1</th>\n",
       "      <td>13.50</td>\n",
       "      <td>4</td>\n",
       "    </tr>\n",
       "    <tr>\n",
       "      <th>2</th>\n",
       "      <td>19.75</td>\n",
       "      <td>6</td>\n",
       "    </tr>\n",
       "    <tr>\n",
       "      <th>3</th>\n",
       "      <td>24.00</td>\n",
       "      <td>9</td>\n",
       "    </tr>\n",
       "    <tr>\n",
       "      <th>4</th>\n",
       "      <td>29.00</td>\n",
       "      <td>10</td>\n",
       "    </tr>\n",
       "  </tbody>\n",
       "</table>\n",
       "</div>"
      ],
      "text/plain": [
       "   Delivery Time  Sorting Time\n",
       "0          21.00            10\n",
       "1          13.50             4\n",
       "2          19.75             6\n",
       "3          24.00             9\n",
       "4          29.00            10"
      ]
     },
     "execution_count": 2,
     "metadata": {},
     "output_type": "execute_result"
    }
   ],
   "source": [
    "data= pd.read_csv('C:/Users/user/Downloads/delivery_time.csv')\n",
    "data.head()"
   ]
  },
  {
   "cell_type": "code",
   "execution_count": 3,
   "id": "92c65dec",
   "metadata": {},
   "outputs": [
    {
     "data": {
      "text/html": [
       "<div>\n",
       "<style scoped>\n",
       "    .dataframe tbody tr th:only-of-type {\n",
       "        vertical-align: middle;\n",
       "    }\n",
       "\n",
       "    .dataframe tbody tr th {\n",
       "        vertical-align: top;\n",
       "    }\n",
       "\n",
       "    .dataframe thead th {\n",
       "        text-align: right;\n",
       "    }\n",
       "</style>\n",
       "<table border=\"1\" class=\"dataframe\">\n",
       "  <thead>\n",
       "    <tr style=\"text-align: right;\">\n",
       "      <th></th>\n",
       "      <th>Delivery Time</th>\n",
       "      <th>Sorting Time</th>\n",
       "    </tr>\n",
       "  </thead>\n",
       "  <tbody>\n",
       "    <tr>\n",
       "      <th>0</th>\n",
       "      <td>21.00</td>\n",
       "      <td>10</td>\n",
       "    </tr>\n",
       "    <tr>\n",
       "      <th>1</th>\n",
       "      <td>13.50</td>\n",
       "      <td>4</td>\n",
       "    </tr>\n",
       "    <tr>\n",
       "      <th>2</th>\n",
       "      <td>19.75</td>\n",
       "      <td>6</td>\n",
       "    </tr>\n",
       "    <tr>\n",
       "      <th>3</th>\n",
       "      <td>24.00</td>\n",
       "      <td>9</td>\n",
       "    </tr>\n",
       "    <tr>\n",
       "      <th>4</th>\n",
       "      <td>29.00</td>\n",
       "      <td>10</td>\n",
       "    </tr>\n",
       "    <tr>\n",
       "      <th>5</th>\n",
       "      <td>15.35</td>\n",
       "      <td>6</td>\n",
       "    </tr>\n",
       "    <tr>\n",
       "      <th>6</th>\n",
       "      <td>19.00</td>\n",
       "      <td>7</td>\n",
       "    </tr>\n",
       "    <tr>\n",
       "      <th>7</th>\n",
       "      <td>9.50</td>\n",
       "      <td>3</td>\n",
       "    </tr>\n",
       "    <tr>\n",
       "      <th>8</th>\n",
       "      <td>17.90</td>\n",
       "      <td>10</td>\n",
       "    </tr>\n",
       "    <tr>\n",
       "      <th>9</th>\n",
       "      <td>18.75</td>\n",
       "      <td>9</td>\n",
       "    </tr>\n",
       "    <tr>\n",
       "      <th>10</th>\n",
       "      <td>19.83</td>\n",
       "      <td>8</td>\n",
       "    </tr>\n",
       "    <tr>\n",
       "      <th>11</th>\n",
       "      <td>10.75</td>\n",
       "      <td>4</td>\n",
       "    </tr>\n",
       "    <tr>\n",
       "      <th>12</th>\n",
       "      <td>16.68</td>\n",
       "      <td>7</td>\n",
       "    </tr>\n",
       "    <tr>\n",
       "      <th>13</th>\n",
       "      <td>11.50</td>\n",
       "      <td>3</td>\n",
       "    </tr>\n",
       "    <tr>\n",
       "      <th>14</th>\n",
       "      <td>12.03</td>\n",
       "      <td>3</td>\n",
       "    </tr>\n",
       "    <tr>\n",
       "      <th>15</th>\n",
       "      <td>14.88</td>\n",
       "      <td>4</td>\n",
       "    </tr>\n",
       "    <tr>\n",
       "      <th>16</th>\n",
       "      <td>13.75</td>\n",
       "      <td>6</td>\n",
       "    </tr>\n",
       "    <tr>\n",
       "      <th>17</th>\n",
       "      <td>18.11</td>\n",
       "      <td>7</td>\n",
       "    </tr>\n",
       "    <tr>\n",
       "      <th>18</th>\n",
       "      <td>8.00</td>\n",
       "      <td>2</td>\n",
       "    </tr>\n",
       "    <tr>\n",
       "      <th>19</th>\n",
       "      <td>17.83</td>\n",
       "      <td>7</td>\n",
       "    </tr>\n",
       "    <tr>\n",
       "      <th>20</th>\n",
       "      <td>21.50</td>\n",
       "      <td>5</td>\n",
       "    </tr>\n",
       "  </tbody>\n",
       "</table>\n",
       "</div>"
      ],
      "text/plain": [
       "    Delivery Time  Sorting Time\n",
       "0           21.00            10\n",
       "1           13.50             4\n",
       "2           19.75             6\n",
       "3           24.00             9\n",
       "4           29.00            10\n",
       "5           15.35             6\n",
       "6           19.00             7\n",
       "7            9.50             3\n",
       "8           17.90            10\n",
       "9           18.75             9\n",
       "10          19.83             8\n",
       "11          10.75             4\n",
       "12          16.68             7\n",
       "13          11.50             3\n",
       "14          12.03             3\n",
       "15          14.88             4\n",
       "16          13.75             6\n",
       "17          18.11             7\n",
       "18           8.00             2\n",
       "19          17.83             7\n",
       "20          21.50             5"
      ]
     },
     "execution_count": 3,
     "metadata": {},
     "output_type": "execute_result"
    }
   ],
   "source": [
    "df=data.copy()\n",
    "df"
   ]
  },
  {
   "cell_type": "markdown",
   "id": "5755082a",
   "metadata": {},
   "source": [
    "## Exploratory Data Analysis"
   ]
  },
  {
   "cell_type": "code",
   "execution_count": 4,
   "id": "e6fff85f",
   "metadata": {},
   "outputs": [
    {
     "data": {
      "image/png": "[encoded data removed]",
      "text/plain": [
       "<Figure size 600x200 with 1 Axes>"
      ]
     },
     "metadata": {},
     "output_type": "display_data"
    }
   ],
   "source": [
    "## Variation of Delivery time with the sorting time\n",
    "plt.figure(figsize=(6,2))\n",
    "sns.lineplot(x='Sorting Time',y='Delivery Time',data=df)\n",
    "plt.savefig('Delivery time versus Soting time.jpg')"
   ]
  },
  {
   "cell_type": "markdown",
   "id": "adea9920",
   "metadata": {},
   "source": [
    "Increase in the sorting time causes an increase in the delivery time, both are directly proportional"
   ]
  },
  {
   "cell_type": "code",
   "execution_count": 5,
   "id": "e5a4097f",
   "metadata": {},
   "outputs": [
    {
     "name": "stdout",
     "output_type": "stream",
     "text": [
      "The skewness is : 0.35\n",
      "count    21.000000\n",
      "mean     16.790952\n",
      "std       5.074901\n",
      "min       8.000000\n",
      "25%      13.500000\n",
      "50%      17.830000\n",
      "75%      19.750000\n",
      "max      29.000000\n",
      "Name: Delivery Time, dtype: float64\n"
     ]
    },
    {
     "data": {
      "image/png": "[encoded data removed]",
      "text/plain": [
       "<Figure size 500x500 with 1 Axes>"
      ]
     },
     "metadata": {},
     "output_type": "display_data"
    }
   ],
   "source": [
    "# Distribution of Delivery Time data\n",
    "sns.displot(df['Delivery Time'])\n",
    "print('The skewness is :', round(df['Delivery Time'].skew(),2))\n",
    "print(df['Delivery Time'].describe())\n",
    "plt.savefig('Distribution of Delivery time.jpg')"
   ]
  },
  {
   "cell_type": "markdown",
   "id": "c49b0372",
   "metadata": {},
   "source": [
    "The distribution of Delievery time is normally distributed"
   ]
  },
  {
   "cell_type": "code",
   "execution_count": 6,
   "id": "058fa24f",
   "metadata": {},
   "outputs": [
    {
     "name": "stdout",
     "output_type": "stream",
     "text": [
      "The skewness is : 0.05\n",
      "count    21.000000\n",
      "mean      6.190476\n",
      "std       2.542028\n",
      "min       2.000000\n",
      "25%       4.000000\n",
      "50%       6.000000\n",
      "75%       8.000000\n",
      "max      10.000000\n",
      "Name: Sorting Time, dtype: float64\n"
     ]
    },
    {
     "data": {
      "image/png": "[encoded data removed]",
      "text/plain": [
       "<Figure size 500x500 with 1 Axes>"
      ]
     },
     "metadata": {},
     "output_type": "display_data"
    }
   ],
   "source": [
    "# Distribution of Sorting Time data\n",
    "sns.displot(df['Sorting Time'])\n",
    "print('The skewness is :', round(df['Sorting Time'].skew(),2))\n",
    "print(df['Sorting Time'].describe())\n",
    "plt.savefig('Distribution of Sorting time.jpg')"
   ]
  },
  {
   "cell_type": "markdown",
   "id": "b00fbb0b",
   "metadata": {},
   "source": [
    "The distribution of Sorting time is normally distributed"
   ]
  },
  {
   "cell_type": "code",
   "execution_count": 7,
   "id": "61522daf",
   "metadata": {},
   "outputs": [
    {
     "data": {
      "image/png": "[encoded data removed]",
      "text/plain": [
       "<Figure size 640x480 with 1 Axes>"
      ]
     },
     "metadata": {},
     "output_type": "display_data"
    }
   ],
   "source": [
    "## Box plot of Delivery time data to check the presence of outliers\n",
    "sns.boxplot(x=df['Delivery Time'])\n",
    "plt.savefig('Box plot Delievery time.jpg')"
   ]
  },
  {
   "cell_type": "markdown",
   "id": "c39fd227",
   "metadata": {},
   "source": [
    "This means, there are no outliers in the delivery time data"
   ]
  },
  {
   "cell_type": "code",
   "execution_count": 8,
   "id": "ff1a6af2",
   "metadata": {},
   "outputs": [
    {
     "data": {
      "image/png": "[encoded data removed]",
      "text/plain": [
       "<Figure size 640x480 with 1 Axes>"
      ]
     },
     "metadata": {},
     "output_type": "display_data"
    }
   ],
   "source": [
    "sns.scatterplot(x='Sorting Time',y='Delivery Time',data=df)\n",
    "plt.savefig('Scattering plot of Sorting time.jpg')"
   ]
  },
  {
   "cell_type": "markdown",
   "id": "f3b15922",
   "metadata": {},
   "source": [
    "1. From the scatter plot it can be concluded that Delivery time does depend on sorting time but only to certain extent."
   ]
  },
  {
   "cell_type": "markdown",
   "id": "173bd22d",
   "metadata": {},
   "source": [
    "2. For the same sorting time there are different delivery time that means it also depend on other parameters."
   ]
  },
  {
   "cell_type": "code",
   "execution_count": 9,
   "id": "37539b2c",
   "metadata": {},
   "outputs": [
    {
     "name": "stdout",
     "output_type": "stream",
     "text": [
      "The variance in the Delievery time and Sorting time is:\n",
      " Sorting Time      6.46\n",
      "Delivery Time    25.75\n",
      "dtype: float64\n"
     ]
    }
   ],
   "source": [
    "## the variance of data\n",
    "v=df[['Sorting Time','Delivery Time']].var()\n",
    "print('The variance in the Delievery time and Sorting time is:\\n',round(v,2))"
   ]
  },
  {
   "cell_type": "markdown",
   "id": "fdc245b7",
   "metadata": {},
   "source": [
    "data is slightly variated"
   ]
  },
  {
   "cell_type": "code",
   "execution_count": 10,
   "id": "c730b834",
   "metadata": {},
   "outputs": [
    {
     "name": "stdout",
     "output_type": "stream",
     "text": [
      "The model data is given as:\n",
      "     Sorting Time  Delivery Time\n",
      "0             10          21.00\n",
      "1              4          13.50\n",
      "2              6          19.75\n",
      "3              9          24.00\n",
      "4             10          29.00\n",
      "5              6          15.35\n",
      "6              7          19.00\n",
      "7              3           9.50\n",
      "8             10          17.90\n",
      "9              9          18.75\n",
      "10             8          19.83\n",
      "11             4          10.75\n",
      "12             7          16.68\n",
      "13             3          11.50\n",
      "14             3          12.03\n",
      "15             4          14.88\n",
      "16             6          13.75\n",
      "17             7          18.11\n",
      "18             2           8.00\n",
      "19             7          17.83\n",
      "20             5          21.50\n"
     ]
    }
   ],
   "source": [
    "model_data=df[['Sorting Time','Delivery Time']]\n",
    "print('The model data is given as:\\n', model_data)"
   ]
  },
  {
   "cell_type": "code",
   "execution_count": 11,
   "id": "27b14a9d",
   "metadata": {},
   "outputs": [
    {
     "name": "stdout",
     "output_type": "stream",
     "text": [
      "The correlation between Delivery time and sorting time is :\n",
      "                Sorting Time  Delivery Time\n",
      "Sorting Time           1.00           0.83\n",
      "Delivery Time          0.83           1.00\n"
     ]
    }
   ],
   "source": [
    "## Correlation between Delivery time and sorting time\n",
    "c=round(model_data.corr(),2)\n",
    "print('The correlation between Delivery time and sorting time is :\\n',c)"
   ]
  },
  {
   "cell_type": "markdown",
   "id": "ee8753a3",
   "metadata": {},
   "source": [
    "## Sampling the data"
   ]
  },
  {
   "cell_type": "code",
   "execution_count": 12,
   "id": "523dcaee",
   "metadata": {},
   "outputs": [
    {
     "name": "stdout",
     "output_type": "stream",
     "text": [
      "The number of rows and columns in the given data are:\n"
     ]
    },
    {
     "data": {
      "text/plain": [
       "(21, 2)"
      ]
     },
     "execution_count": 12,
     "metadata": {},
     "output_type": "execute_result"
    }
   ],
   "source": [
    "# the number of rows and columns in the given data\n",
    "print('The number of rows and columns in the given data are:')\n",
    "model_data.shape"
   ]
  },
  {
   "cell_type": "code",
   "execution_count": 13,
   "id": "fd795161",
   "metadata": {},
   "outputs": [],
   "source": [
    "from sklearn.model_selection import train_test_split"
   ]
  },
  {
   "cell_type": "code",
   "execution_count": 14,
   "id": "c5b7b375",
   "metadata": {},
   "outputs": [],
   "source": [
    "x=model_data['Sorting Time']\n",
    "y=model_data['Delivery Time']"
   ]
  },
  {
   "cell_type": "code",
   "execution_count": 15,
   "id": "f951ae3e",
   "metadata": {},
   "outputs": [],
   "source": [
    "x_train,x_test,y_train,y_test=train_test_split(x,y,train_size=0.8)"
   ]
  },
  {
   "cell_type": "code",
   "execution_count": 16,
   "id": "fc95e8ff",
   "metadata": {},
   "outputs": [
    {
     "data": {
      "text/plain": [
       "((16,), (16,))"
      ]
     },
     "execution_count": 16,
     "metadata": {},
     "output_type": "execute_result"
    }
   ],
   "source": [
    "## The shape of data after distributing it into train and test category\n",
    "x_train.shape,y_train.shape"
   ]
  },
  {
   "cell_type": "code",
   "execution_count": 17,
   "id": "2612a20c",
   "metadata": {},
   "outputs": [
    {
     "data": {
      "text/plain": [
       "((5,), (5,))"
      ]
     },
     "execution_count": 17,
     "metadata": {},
     "output_type": "execute_result"
    }
   ],
   "source": [
    "x_test.shape,y_test.shape"
   ]
  },
  {
   "cell_type": "code",
   "execution_count": 18,
   "id": "da987711",
   "metadata": {},
   "outputs": [],
   "source": [
    "# Reshaping of the data as it is a simple Linear Regression\n",
    "x_train=x_train.values.reshape(-1,1)\n",
    "y_train=y_train.values.reshape(-1,1)"
   ]
  },
  {
   "cell_type": "markdown",
   "id": "64027afa",
   "metadata": {},
   "source": [
    "## Model building"
   ]
  },
  {
   "cell_type": "code",
   "execution_count": 19,
   "id": "87da331e",
   "metadata": {},
   "outputs": [],
   "source": [
    "from sklearn.linear_model import LinearRegression"
   ]
  },
  {
   "cell_type": "code",
   "execution_count": 20,
   "id": "d4e17d44",
   "metadata": {},
   "outputs": [
    {
     "name": "stdout",
     "output_type": "stream",
     "text": [
      "LinearRegression()\n"
     ]
    }
   ],
   "source": [
    "model=LinearRegression()\n",
    "print(model)"
   ]
  },
  {
   "cell_type": "code",
   "execution_count": 21,
   "id": "40ee137d",
   "metadata": {},
   "outputs": [],
   "source": [
    "model_fit=model.fit(x_train,y_train)"
   ]
  },
  {
   "cell_type": "code",
   "execution_count": 22,
   "id": "76bd814d",
   "metadata": {},
   "outputs": [
    {
     "name": "stdout",
     "output_type": "stream",
     "text": [
      "The coefficient of the fitted data is:  [[1.35407521]]\n"
     ]
    }
   ],
   "source": [
    "# Coefficient \n",
    "print('The coefficient of the fitted data is: ', model_fit.coef_)"
   ]
  },
  {
   "cell_type": "code",
   "execution_count": 23,
   "id": "ea1e4ff9",
   "metadata": {},
   "outputs": [
    {
     "name": "stdout",
     "output_type": "stream",
     "text": [
      "The Intercept of the fitted data is:  [7.86119724]\n"
     ]
    }
   ],
   "source": [
    "# Intercept of the fitting\n",
    "print('The Intercept of the fitted data is: ',model_fit.intercept_)"
   ]
  },
  {
   "cell_type": "markdown",
   "id": "7df75a62",
   "metadata": {},
   "source": [
    "## Model Prediction"
   ]
  },
  {
   "cell_type": "code",
   "execution_count": 24,
   "id": "3b1fa0e6",
   "metadata": {},
   "outputs": [],
   "source": [
    "x_test=x_test.values.reshape(-1,1)"
   ]
  },
  {
   "cell_type": "code",
   "execution_count": 25,
   "id": "e2e12c98",
   "metadata": {},
   "outputs": [
    {
     "data": {
      "text/plain": [
       "array([[20.04787414],\n",
       "       [18.69379893],\n",
       "       [11.92342287],\n",
       "       [20.04787414],\n",
       "       [21.40194935]])"
      ]
     },
     "execution_count": 25,
     "metadata": {},
     "output_type": "execute_result"
    }
   ],
   "source": [
    "pred=model_fit.predict(x_test)\n",
    "pred"
   ]
  },
  {
   "cell_type": "code",
   "execution_count": 26,
   "id": "2ae6061c",
   "metadata": {},
   "outputs": [
    {
     "data": {
      "text/html": [
       "<div>\n",
       "<style scoped>\n",
       "    .dataframe tbody tr th:only-of-type {\n",
       "        vertical-align: middle;\n",
       "    }\n",
       "\n",
       "    .dataframe tbody tr th {\n",
       "        vertical-align: top;\n",
       "    }\n",
       "\n",
       "    .dataframe thead th {\n",
       "        text-align: right;\n",
       "    }\n",
       "</style>\n",
       "<table border=\"1\" class=\"dataframe\">\n",
       "  <thead>\n",
       "    <tr style=\"text-align: right;\">\n",
       "      <th></th>\n",
       "      <th>pred</th>\n",
       "    </tr>\n",
       "  </thead>\n",
       "  <tbody>\n",
       "    <tr>\n",
       "      <th>0</th>\n",
       "      <td>20.047874</td>\n",
       "    </tr>\n",
       "    <tr>\n",
       "      <th>1</th>\n",
       "      <td>18.693799</td>\n",
       "    </tr>\n",
       "    <tr>\n",
       "      <th>2</th>\n",
       "      <td>11.923423</td>\n",
       "    </tr>\n",
       "    <tr>\n",
       "      <th>3</th>\n",
       "      <td>20.047874</td>\n",
       "    </tr>\n",
       "    <tr>\n",
       "      <th>4</th>\n",
       "      <td>21.401949</td>\n",
       "    </tr>\n",
       "  </tbody>\n",
       "</table>\n",
       "</div>"
      ],
      "text/plain": [
       "        pred\n",
       "0  20.047874\n",
       "1  18.693799\n",
       "2  11.923423\n",
       "3  20.047874\n",
       "4  21.401949"
      ]
     },
     "execution_count": 26,
     "metadata": {},
     "output_type": "execute_result"
    }
   ],
   "source": [
    "df_pred=pd.DataFrame(pred,columns=['pred'])\n",
    "df_pred"
   ]
  },
  {
   "cell_type": "code",
   "execution_count": 27,
   "id": "5a5a0811",
   "metadata": {},
   "outputs": [
    {
     "data": {
      "text/html": [
       "<div>\n",
       "<style scoped>\n",
       "    .dataframe tbody tr th:only-of-type {\n",
       "        vertical-align: middle;\n",
       "    }\n",
       "\n",
       "    .dataframe tbody tr th {\n",
       "        vertical-align: top;\n",
       "    }\n",
       "\n",
       "    .dataframe thead th {\n",
       "        text-align: right;\n",
       "    }\n",
       "</style>\n",
       "<table border=\"1\" class=\"dataframe\">\n",
       "  <thead>\n",
       "    <tr style=\"text-align: right;\">\n",
       "      <th></th>\n",
       "      <th>pred</th>\n",
       "      <th>Actual</th>\n",
       "    </tr>\n",
       "  </thead>\n",
       "  <tbody>\n",
       "    <tr>\n",
       "      <th>0</th>\n",
       "      <td>20.047874</td>\n",
       "      <td>18.75</td>\n",
       "    </tr>\n",
       "    <tr>\n",
       "      <th>1</th>\n",
       "      <td>18.693799</td>\n",
       "      <td>19.83</td>\n",
       "    </tr>\n",
       "    <tr>\n",
       "      <th>2</th>\n",
       "      <td>11.923423</td>\n",
       "      <td>12.03</td>\n",
       "    </tr>\n",
       "    <tr>\n",
       "      <th>3</th>\n",
       "      <td>20.047874</td>\n",
       "      <td>24.00</td>\n",
       "    </tr>\n",
       "    <tr>\n",
       "      <th>4</th>\n",
       "      <td>21.401949</td>\n",
       "      <td>29.00</td>\n",
       "    </tr>\n",
       "  </tbody>\n",
       "</table>\n",
       "</div>"
      ],
      "text/plain": [
       "        pred  Actual\n",
       "0  20.047874   18.75\n",
       "1  18.693799   19.83\n",
       "2  11.923423   12.03\n",
       "3  20.047874   24.00\n",
       "4  21.401949   29.00"
      ]
     },
     "execution_count": 27,
     "metadata": {},
     "output_type": "execute_result"
    }
   ],
   "source": [
    "df_pred['Actual']=y_test.values\n",
    "df_pred"
   ]
  },
  {
   "cell_type": "markdown",
   "id": "5fe49eb9",
   "metadata": {},
   "source": [
    "## Error Calculation"
   ]
  },
  {
   "cell_type": "code",
   "execution_count": 28,
   "id": "1d1256e4",
   "metadata": {},
   "outputs": [],
   "source": [
    "from sklearn.metrics import r2_score,mean_absolute_error,mean_squared_error\n",
    "from math import sqrt"
   ]
  },
  {
   "cell_type": "code",
   "execution_count": 29,
   "id": "5234a2cb",
   "metadata": {},
   "outputs": [
    {
     "name": "stdout",
     "output_type": "stream",
     "text": [
      "The strength of the model is : 0.521\n"
     ]
    }
   ],
   "source": [
    "# R square value \n",
    "st=r2_score(df_pred['Actual'],df_pred['pred'])\n",
    "print('The strength of the model is :',round(st,3))"
   ]
  },
  {
   "cell_type": "markdown",
   "id": "006de63b",
   "metadata": {},
   "source": [
    "The strength of the model is strong since r square value lies between 0 and 1.\n",
    "\n",
    "strongest when approaches 1 and weakest when approaches 0"
   ]
  },
  {
   "cell_type": "markdown",
   "id": "248f10de",
   "metadata": {},
   "source": [
    "So, the fitted model is fine."
   ]
  },
  {
   "cell_type": "code",
   "execution_count": 30,
   "id": "3c37d5b6",
   "metadata": {},
   "outputs": [
    {
     "name": "stdout",
     "output_type": "stream",
     "text": [
      "The root mean square value of the model is : 3.907\n"
     ]
    }
   ],
   "source": [
    "# RMSE\n",
    "RMSE= sqrt(mean_squared_error(df_pred['Actual'],df_pred['pred']))\n",
    "print('The root mean square value of the model is :',round(RMSE,3))"
   ]
  },
  {
   "cell_type": "markdown",
   "id": "5abc9c51",
   "metadata": {},
   "source": [
    "## Saving the model"
   ]
  },
  {
   "cell_type": "code",
   "execution_count": 31,
   "id": "4c1f49cf",
   "metadata": {},
   "outputs": [],
   "source": [
    "import joblib"
   ]
  },
  {
   "cell_type": "code",
   "execution_count": 32,
   "id": "01113592",
   "metadata": {},
   "outputs": [],
   "source": [
    "file_name='Delivery_simpleregression_prj1.sav'"
   ]
  },
  {
   "cell_type": "code",
   "execution_count": 33,
   "id": "a3b369d2",
   "metadata": {},
   "outputs": [
    {
     "data": {
      "text/plain": [
       "['Delivery_simpleregression_prj1.sav']"
      ]
     },
     "execution_count": 33,
     "metadata": {},
     "output_type": "execute_result"
    }
   ],
   "source": [
    "joblib.dump(model_fit,file_name)"
   ]
  },
  {
   "cell_type": "code",
   "execution_count": null,
   "id": "5fb98c53",
   "metadata": {},
   "outputs": [],
   "source": []
  }
 ],
 "metadata": {
  "kernelspec": {
   "display_name": "Python 3 (ipykernel)",
   "language": "python",
   "name": "python3"
  },
  "language_info": {
   "codemirror_mode": {
    "name": "ipython",
    "version": 3
   },
   "file_extension": ".py",
   "mimetype": "text/x-python",
   "name": "python",
   "nbconvert_exporter": "python",
   "pygments_lexer": "ipython3",
   "version": "3.11.4"
  }
 },
 "nbformat": 4,
 "nbformat_minor": 5
}
